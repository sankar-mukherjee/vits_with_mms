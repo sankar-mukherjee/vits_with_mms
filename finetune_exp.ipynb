{
 "cells": [
  {
   "attachments": {},
   "cell_type": "markdown",
   "metadata": {},
   "source": [
    "This is an experiment to check if we can clone a voice for the VITS tts. Here we will use tts models from MMS. "
   ]
  },
  {
   "cell_type": "code",
   "execution_count": 28,
   "metadata": {},
   "outputs": [],
   "source": [
    "import os"
   ]
  },
  {
   "cell_type": "code",
   "execution_count": 29,
   "metadata": {},
   "outputs": [
    {
     "name": "stdout",
     "output_type": "stream",
     "text": [
      "13100\n",
      "LJ001-0001|Printing, in the only sense with which we are at present concerned, differs from most if not from all the arts and crafts represented in the Exhibition|Printing, in the only sense with which we are at present concerned, differs from most if not from all the arts and crafts represented in the Exhibition\n",
      "\n"
     ]
    }
   ],
   "source": [
    "# create filelist from lj speech\n",
    "data_dir = 'data/LJSpeech-1.1/'\n",
    "with open(data_dir+'metadata.csv', 'r') as file:\n",
    "    lines = file.readlines()\n",
    "print(len(lines))\n",
    "print(lines[0])"
   ]
  },
  {
   "cell_type": "code",
   "execution_count": 30,
   "metadata": {},
   "outputs": [
    {
     "name": "stdout",
     "output_type": "stream",
     "text": [
      "1644\n"
     ]
    },
    {
     "data": {
      "text/plain": [
       "'data/LJSpeech-1.1/wavs/LJ001-0002.wav|in being comparatively modern.\\n'"
      ]
     },
     "execution_count": 30,
     "metadata": {},
     "output_type": "execute_result"
    }
   ],
   "source": [
    "# preprocess lines\n",
    "# filter short and long senteces\n",
    "lines_filter_words = []\n",
    "min_words, max_words = 2, 10\n",
    "for line in lines:\n",
    "    wav_path, text, _ = line.split('|')\n",
    "    no_words = len(text.split())\n",
    "    if no_words > min_words and no_words < max_words:\n",
    "        # add .wav and data_dir\n",
    "        wav_path = data_dir + 'wavs/' + wav_path + '.wav'\n",
    "        line = '|'.join([wav_path, text]) + '\\n'\n",
    "        lines_filter_words.append(line)\n",
    "print(len(lines_filter_words))\n",
    "lines_filter_words[0]"
   ]
  },
  {
   "cell_type": "code",
   "execution_count": 31,
   "metadata": {},
   "outputs": [
    {
     "name": "stdout",
     "output_type": "stream",
     "text": [
      "20.060153566666678\n",
      "395\n"
     ]
    }
   ],
   "source": [
    "# take few minutes of data\n",
    "import sox\n",
    "\n",
    "target_duration = 20 # min\n",
    "lines_filter_dur = []\n",
    "\n",
    "total_duration = 0.0\n",
    "for line in lines_filter_words:\n",
    "    wav_path = line.split('|')[0]\n",
    "    total_duration += sox.file_info.duration(wav_path)\n",
    "    lines_filter_dur.append(line)\n",
    "    if total_duration > target_duration * 60:\n",
    "        break\n",
    "print(total_duration/60)\n",
    "print(len(lines_filter_dur))"
   ]
  },
  {
   "cell_type": "code",
   "execution_count": 32,
   "metadata": {},
   "outputs": [],
   "source": [
    "# this is for google colab as I dont have large gpus\n",
    "# copy filter wav files to a separte folder\n",
    "import shutil\n",
    "if os.path.exists('data/ljspeech_filter/'):\n",
    "     shutil.rmtree('data/ljspeech_filter/')\n",
    "os.makedirs('data/ljspeech_filter/', exist_ok=True)\n",
    "os.makedirs('data/ljspeech_filter/wavs', exist_ok=True)\n",
    "\n",
    "for line in lines_filter_dur:\n",
    "    source_path = line.split('|')[0]\n",
    "    shutil.copy(source_path, source_path.replace('LJSpeech-1.1','ljspeech_filter'))\n"
   ]
  },
  {
   "cell_type": "code",
   "execution_count": 34,
   "metadata": {},
   "outputs": [],
   "source": [
    "# save filelist to VITS dir\n",
    "file = open('filelists/ljspeech_filelist.txt', \"w\", encoding='utf8')\n",
    "for line in lines_filter_dur:\n",
    "    line = line.replace('LJSpeech-1.1','ljspeech_filter')\n",
    "    file.write(line)\n",
    "file.close()"
   ]
  },
  {
   "cell_type": "code",
   "execution_count": 35,
   "metadata": {},
   "outputs": [
    {
     "name": "stdout",
     "output_type": "stream",
     "text": [
      "START: filelists/ljspeech_filelist.txt\n"
     ]
    },
    {
     "data": {
      "text/plain": [
       "0"
      ]
     },
     "execution_count": 35,
     "metadata": {},
     "output_type": "execute_result"
    }
   ],
   "source": [
    "# preprocess filelist for VITS\n",
    "os.system('python preprocess.py --text_index 1 --filelists filelists/ljspeech_filelist.txt')"
   ]
  },
  {
   "attachments": {},
   "cell_type": "markdown",
   "metadata": {},
   "source": [
    "Create configs/finetune.json by \n",
    "\n",
    "- copying the configs/ljs_base.json\n",
    "- changing the training file path\n",
    "- change sampling rate 22050 to 16000\n",
    "- learning_rate decreased to 2e-5"
   ]
  },
  {
   "cell_type": "code",
   "execution_count": null,
   "metadata": {},
   "outputs": [],
   "source": [
    "os.system('python finetune.py -c configs/finetune.json -m finetuned_ljspeech')\n"
   ]
  },
  {
   "cell_type": "code",
   "execution_count": null,
   "metadata": {},
   "outputs": [],
   "source": [
    "# download data\n",
    "!wget https://dl.fbaipublicfiles.com/mms/tts/eng.tar.gz \n",
    "!tar -xvzf eng.tar.gz\n"
   ]
  }
 ],
 "metadata": {
  "kernelspec": {
   "display_name": "base",
   "language": "python",
   "name": "python3"
  },
  "language_info": {
   "codemirror_mode": {
    "name": "ipython",
    "version": 3
   },
   "file_extension": ".py",
   "mimetype": "text/x-python",
   "name": "python",
   "nbconvert_exporter": "python",
   "pygments_lexer": "ipython3",
   "version": "3.8.16"
  },
  "orig_nbformat": 4
 },
 "nbformat": 4,
 "nbformat_minor": 2
}
